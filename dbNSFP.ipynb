{
 "cells": [
  {
   "cell_type": "code",
   "execution_count": null,
   "metadata": {
    "scrolled": true
   },
   "outputs": [],
   "source": [
    "'''\n",
    "OPEN DATAFRAME OF dbNSFP\n",
    "'''\n",
    "import pandas as pd\n",
    "\n",
    "def get_dbSNP_version(dataframe):\n",
    "    for column in list(dataframe):\n",
    "        if \"rs_dbSNP\" in column:\n",
    "            return column[-3:]\n",
    "def get_hg_version(dataframe):\n",
    "    bigger_value = \"0\"\n",
    "    for column in list(dataframe):\n",
    "        if((\"hg\" in column) and (column[2:4] > bigger_value)):\n",
    "            bigger_value = column[2:4]\n",
    "    return bigger_value\n",
    "        \n",
    "FILENAME = \"dbNSFP3.5a_variant.chr1\"\n",
    "COLUMN_NAMES = [\"genename\", \"rs_dbSNP150\", \"hg19_pos(1-based)\", \"cds_strand\", \"codonpos\", \"codon_degeneracy\",\n",
    "                \"ref\", \"alt\", \"aaref\", \"aaalt\", \"aapos\", \"Ensembl_geneid\", \"Ensembl_transcriptid\",\n",
    "                \"Ensembl_proteinid\", \"Uniprot_acc_Polyphen2\", \"Transcript_id_VEST3\", \"SIFT_pred\",\n",
    "                \"Polyphen2_HDIV_pred\", \"Polyphen2_HVAR_pred\", \"LRT_pred\", \"MutationTaster_pred\",\n",
    "                \"MutationAssessor_pred\", \"FATHMM_pred\", \"PROVEAN_pred\", \"VEST3_score\", \"MetaSVM_pred\",\n",
    "                \"MetaLR_pred\", \"M-CAP_pred\", \"REVEL_score\", \"MutPred_score\", \"CADD_phred\", \"DANN_score\",\n",
    "                \"fathmm-MKL_coding_pred\"]\n",
    "\n",
    "pd.set_option('display.max_columns', 300)\n",
    "\n",
    "'''\n",
    "TO RUN ON LIKA COMPUTER, USE THE SECOND READ_CSV FUNCTION\n",
    "'''\n",
    "#df = pd.read_csv(FILENAME, sep='\\t')\n",
    "df = pd.read_csv(\"/bioinfo/dbNSFPv3.5a/\" + FILENAME, sep='\\t')\n",
    "\n",
    "#df = df[COLUMN_NAMES]\n",
    "\n",
    "df = df.loc[df['rs_dbSNP150'] != '.']\n",
    "df"
   ]
  },
  {
   "cell_type": "code",
   "execution_count": 1,
   "metadata": {},
   "outputs": [
    {
     "ename": "NameError",
     "evalue": "name 'df' is not defined",
     "output_type": "error",
     "traceback": [
      "\u001b[0;31m---------------------------------------------------------------------------\u001b[0m",
      "\u001b[0;31mNameError\u001b[0m                                 Traceback (most recent call last)",
      "\u001b[0;32m<ipython-input-1-bac76e39a073>\u001b[0m in \u001b[0;36m<module>\u001b[0;34m\u001b[0m\n\u001b[1;32m      3\u001b[0m '''\n\u001b[1;32m      4\u001b[0m \u001b[0minfo_dict\u001b[0m \u001b[0;34m=\u001b[0m \u001b[0;34m{\u001b[0m\u001b[0;34m}\u001b[0m\u001b[0;34m\u001b[0m\u001b[0m\n\u001b[0;32m----> 5\u001b[0;31m \u001b[0;32mfor\u001b[0m \u001b[0mcolumn_name\u001b[0m \u001b[0;32min\u001b[0m \u001b[0mlist\u001b[0m\u001b[0;34m(\u001b[0m\u001b[0mdf\u001b[0m\u001b[0;34m)\u001b[0m\u001b[0;34m:\u001b[0m\u001b[0;34m\u001b[0m\u001b[0m\n\u001b[0m\u001b[1;32m      6\u001b[0m     \u001b[0minfo_dict\u001b[0m\u001b[0;34m[\u001b[0m\u001b[0mcolumn_name\u001b[0m\u001b[0;34m]\u001b[0m \u001b[0;34m=\u001b[0m \u001b[0;36m0\u001b[0m\u001b[0;34m\u001b[0m\u001b[0m\n\u001b[1;32m      7\u001b[0m \u001b[0;34m\u001b[0m\u001b[0m\n",
      "\u001b[0;31mNameError\u001b[0m: name 'df' is not defined"
     ]
    }
   ],
   "source": [
    "'''\n",
    "OUTPUT IS A DICT OF PERCENT OF INFORMATION FOR EACH COLUMN\n",
    "'''\n",
    "info_dict = {}\n",
    "for column_name in list(df):\n",
    "    info_dict[column_name] = 0\n",
    "\n",
    "for row_index,row in df.iterrows():\n",
    "    for column_index in range(len(row.index)):\n",
    "        value = df.loc[row_index].values[column_index]\n",
    "        if type(value) == str:\n",
    "            if((value == '.') or (\"./\" in value)):             \n",
    "                info_dict[row.index[column_index]] += 1\n",
    "                \n",
    "for i in info_dict:\n",
    "    info_dict[i] = str(round((1 - info_dict[i]/df.shape[0]) * 100,2)) + '%'\n",
    "info_dict"
   ]
  },
  {
   "cell_type": "code",
   "execution_count": null,
   "metadata": {},
   "outputs": [],
   "source": []
  }
 ],
 "metadata": {
  "kernelspec": {
   "display_name": "Python 3",
   "language": "python",
   "name": "python3"
  },
  "language_info": {
   "codemirror_mode": {
    "name": "ipython",
    "version": 3
   },
   "file_extension": ".py",
   "mimetype": "text/x-python",
   "name": "python",
   "nbconvert_exporter": "python",
   "pygments_lexer": "ipython3",
   "version": "3.6.6"
  }
 },
 "nbformat": 4,
 "nbformat_minor": 2
}
