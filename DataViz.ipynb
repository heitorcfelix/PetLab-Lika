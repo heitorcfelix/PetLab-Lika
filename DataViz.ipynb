{
 "cells": [
  {
   "cell_type": "code",
   "execution_count": 83,
   "metadata": {},
   "outputs": [
    {
     "name": "stdout",
     "output_type": "stream",
     "text": [
      "3.3.0\n"
     ]
    }
   ],
   "source": [
    "import pandas as pd\n",
    "import numpy as np\n",
    "from plotly import __version__\n",
    "from plotly.offline import download_plotlyjs, init_notebook_mode, plot, iplot\n",
    "import plotly.graph_objs as go\n",
    "\n",
    "print (__version__) # requires version >= 1.9.0\n",
    "\n",
    "import pandas as pd \n",
    "\n",
    "df = pd.DataFrame(np.random.uniform(0.0,1.0, size=(100,5)), columns=list(['Score1', 'Score2', 'Score3', 'Score4', 'Average']))\n"
   ]
  },
  {
   "cell_type": "code",
   "execution_count": 116,
   "metadata": {},
   "outputs": [
    {
     "data": {
      "text/plain": [
       "85    0.113821\n",
       "94    0.125372\n",
       "74    0.140445\n",
       "14    0.141505\n",
       "78    0.143161\n",
       "10    0.165883\n",
       "40    0.178672\n",
       "44    0.193413\n",
       "13    0.207985\n",
       "41    0.208880\n",
       "99    0.209904\n",
       "47    0.225952\n",
       "28    0.227429\n",
       "86    0.233320\n",
       "65    0.235831\n",
       "79    0.248071\n",
       "7     0.248861\n",
       "63    0.260082\n",
       "53    0.266647\n",
       "30    0.277443\n",
       "66    0.281846\n",
       "39    0.293901\n",
       "67    0.295221\n",
       "11    0.302490\n",
       "89    0.304931\n",
       "18    0.310187\n",
       "81    0.314207\n",
       "43    0.318063\n",
       "0     0.324773\n",
       "27    0.325287\n",
       "        ...   \n",
       "15    0.524118\n",
       "3     0.524890\n",
       "50    0.525609\n",
       "6     0.542932\n",
       "68    0.548945\n",
       "9     0.560400\n",
       "31    0.565034\n",
       "33    0.568024\n",
       "42    0.574402\n",
       "91    0.577106\n",
       "51    0.580494\n",
       "57    0.584962\n",
       "73    0.584987\n",
       "87    0.592492\n",
       "61    0.600598\n",
       "52    0.601372\n",
       "64    0.601740\n",
       "21    0.615708\n",
       "22    0.635717\n",
       "58    0.636160\n",
       "32    0.653812\n",
       "45    0.684993\n",
       "1     0.694812\n",
       "38    0.698749\n",
       "55    0.706642\n",
       "17    0.708360\n",
       "20    0.743857\n",
       "4     0.782954\n",
       "76    0.830389\n",
       "60    0.885500\n",
       "Name: Average, Length: 100, dtype: float64"
      ]
     },
     "execution_count": 116,
     "metadata": {},
     "output_type": "execute_result"
    }
   ],
   "source": [
    "#intervalo da janela de visualizacao\n",
    "constraintInterval = list([0.0,0.5])\n",
    "\n",
    "#intervalo de valores exibidos\n",
    "valuesRange = list([0.0,1.0])\n",
    "\n",
    "for row in range(0, len(df)-1):\n",
    "    df.iloc[row, 4] = np.mean(df.iloc[row,0:4])\n",
    "    #print(df.iloc[row, 0:5])\n",
    "\n",
    "#df\n",
    "\n",
    "#cores da escala (valor crescente): roxo, azul, ciano, verde, amarelo, vermelho\n",
    "scale = colorscale = [[0,'#920099'],[0.2,'#006EFF'],[0.4,'#00FFDB'],[0.6,'#08CC00'],[0.8, '#EFFF00'], [1,'#FF3B00']]\n",
    "#configuracao das linhas desenhadas, a cor da linha indica a media dos scores\n",
    "lineConfig = dict(color = df['Average'], colorscale = scale)\n",
    "\n",
    "\n",
    "#lista de ranges de cada coordenada e que parte do dataframe deve ser acessada para pegar os valores da mesma\n",
    "listOfDimensions = list([\n",
    "            dict(range = valuesRange,\n",
    "                constraintrange = constraintInterval,\n",
    "                label = 'Score1', values = df['Score1']),\n",
    "            dict(range = valuesRange,\n",
    "                 constraintrange = constraintInterval,\n",
    "                label = 'Score2', values = df['Score2']),\n",
    "            dict(range = valuesRange,\n",
    "                 constraintrange = constraintInterval,\n",
    "                label = 'Score3', values = df['Score3']),\n",
    "            dict(range = valuesRange,\n",
    "                 constraintrange = constraintInterval,\n",
    "                label = 'Score4', values = df['Score4'])\n",
    "        ])\n",
    "\n",
    "data = [\n",
    "    go.Parcoords(line = lineConfig, dimensions = listOfDimensions)\n",
    "]\n",
    "\n",
    "layout = go.Layout(\n",
    "    plot_bgcolor = '#FFFFFF',\n",
    "    paper_bgcolor = '#FFFFFF'\n",
    ")\n",
    "\n",
    "fig = go.Figure(data = data, layout = layout)\n",
    "plot(fig)\n",
    "sorted = df['Average']\n",
    "sorted.sort_values(ascending=True)"
   ]
  }
 ],
 "metadata": {
  "kernelspec": {
   "display_name": "Python 3",
   "language": "python",
   "name": "python3"
  },
  "language_info": {
   "codemirror_mode": {
    "name": "ipython",
    "version": 3
   },
   "file_extension": ".py",
   "mimetype": "text/x-python",
   "name": "python",
   "nbconvert_exporter": "python",
   "pygments_lexer": "ipython3",
   "version": "3.6.5"
  }
 },
 "nbformat": 4,
 "nbformat_minor": 2
}
